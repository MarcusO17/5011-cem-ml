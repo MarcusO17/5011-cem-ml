{
 "cells": [
  {
   "cell_type": "code",
   "execution_count": 1,
   "metadata": {},
   "outputs": [],
   "source": [
    "import pickle\n",
    "import pandas as pd\n",
    "import numpy as np"
   ]
  },
  {
   "cell_type": "code",
   "execution_count": 2,
   "metadata": {},
   "outputs": [],
   "source": [
    "with open('model\\LSTM_model.pkl', 'rb') as file:\n",
    "    model = pickle.load(file)"
   ]
  },
  {
   "cell_type": "code",
   "execution_count": 3,
   "metadata": {},
   "outputs": [],
   "source": [
    "df = pd.read_csv('../data/consolidated_data/training_dataset.csv')\n",
    "df.drop(columns=['Unnamed: 0','state'], inplace=True)\n",
    "df = df.groupby('date').sum()\n",
    "df.index = pd.to_datetime(df.index)\n",
    "df = df.asfreq('d')"
   ]
  },
  {
   "cell_type": "code",
   "execution_count": 4,
   "metadata": {},
   "outputs": [],
   "source": [
    "from sklearn.preprocessing import StandardScaler\n",
    "scaler = StandardScaler()\n",
    "scaler = scaler.fit(df)\n",
    "df_scaled = scaler.transform(df)"
   ]
  },
  {
   "cell_type": "code",
   "execution_count": 5,
   "metadata": {},
   "outputs": [],
   "source": [
    "split_index = int(0.5 * len(df))\n",
    "train_data = df.iloc[:split_index]\n",
    "test_data = df.iloc[split_index:]"
   ]
  },
  {
   "cell_type": "code",
   "execution_count": 6,
   "metadata": {},
   "outputs": [],
   "source": [
    "trainX = []\n",
    "past = 14\n",
    "future = 1\n",
    "for i in range(past, len(df_scaled) + 1):\n",
    "    trainX.append(df_scaled[i-past:i,0:df.shape[1]])"
   ]
  },
  {
   "cell_type": "code",
   "execution_count": 7,
   "metadata": {},
   "outputs": [],
   "source": [
    "trainX = np.array(trainX)"
   ]
  },
  {
   "cell_type": "code",
   "execution_count": 8,
   "metadata": {},
   "outputs": [
    {
     "data": {
      "text/plain": [
       "array([[[-0.58417768, -0.58489877, -0.64306305, ..., -0.49636467,\n",
       "         -0.48878824, -0.5936777 ],\n",
       "        [-0.58486359, -0.58489877, -0.64306305, ..., -0.49636467,\n",
       "         -0.48878824, -0.59403614],\n",
       "        [-0.58486359, -0.58489877, -0.64306305, ..., -0.49636467,\n",
       "         -0.48878824, -0.59403614],\n",
       "        ...,\n",
       "        [-0.58452064, -0.58472579, -0.64295481, ..., -0.49636467,\n",
       "         -0.48878824, -0.59343379],\n",
       "        [-0.58452064, -0.58489877, -0.64292388, ..., -0.49636467,\n",
       "         -0.48878824, -0.59368649],\n",
       "        [-0.58469211, -0.58489877, -0.64290841, ..., -0.49636467,\n",
       "         -0.48878824, -0.59394653]],\n",
       "\n",
       "       [[-0.58486359, -0.58489877, -0.64306305, ..., -0.49636467,\n",
       "         -0.48878824, -0.59403614],\n",
       "        [-0.58486359, -0.58489877, -0.64306305, ..., -0.49636467,\n",
       "         -0.48878824, -0.59403614],\n",
       "        [-0.58486359, -0.58489877, -0.64306305, ..., -0.49636467,\n",
       "         -0.48878824, -0.59403614],\n",
       "        ...,\n",
       "        [-0.58452064, -0.58489877, -0.64292388, ..., -0.49636467,\n",
       "         -0.48878824, -0.59368649],\n",
       "        [-0.58469211, -0.58489877, -0.64290841, ..., -0.49636467,\n",
       "         -0.48878824, -0.59394653],\n",
       "        [-0.58469211, -0.58472579, -0.64290841, ..., -0.49636467,\n",
       "         -0.48878824, -0.59384148]],\n",
       "\n",
       "       [[-0.58486359, -0.58489877, -0.64306305, ..., -0.49636467,\n",
       "         -0.48878824, -0.59403614],\n",
       "        [-0.58486359, -0.58489877, -0.64306305, ..., -0.49636467,\n",
       "         -0.48878824, -0.59403614],\n",
       "        [-0.58434916, -0.58489877, -0.64301666, ..., -0.49636467,\n",
       "         -0.48878824, -0.59370193],\n",
       "        ...,\n",
       "        [-0.58469211, -0.58489877, -0.64290841, ..., -0.49636467,\n",
       "         -0.48878824, -0.59394653],\n",
       "        [-0.58469211, -0.58472579, -0.64290841, ..., -0.49636467,\n",
       "         -0.48878824, -0.59384148],\n",
       "        [-0.58469211, -0.58472579, -0.64290841, ..., -0.49636467,\n",
       "         -0.48878824, -0.59398427]],\n",
       "\n",
       "       ...,\n",
       "\n",
       "       [[-0.57063107, -0.57452019, -0.52100837, ..., -0.58467161,\n",
       "         -0.56748545, -0.57897199],\n",
       "        [-0.57406059, -0.57607698, -0.5208228 , ..., -0.58467161,\n",
       "         -0.56748545, -0.5828411 ],\n",
       "        [-0.57817602, -0.5788446 , -0.52076095, ..., -0.58467161,\n",
       "         -0.56748545, -0.58482812],\n",
       "        ...,\n",
       "        [-0.56600122, -0.57728781, -0.52349802, ..., -0.58191202,\n",
       "         -0.56256687, -0.57105034],\n",
       "        [-0.56342908, -0.57797972, -0.52218361, ..., -0.57639284,\n",
       "         -0.55272972, -0.56743555],\n",
       "        [-0.56188579, -0.5795365 , -0.52059085, ..., -0.57639284,\n",
       "         -0.55272972, -0.56116492]],\n",
       "\n",
       "       [[-0.57406059, -0.57607698, -0.5208228 , ..., -0.58467161,\n",
       "         -0.56748545, -0.5828411 ],\n",
       "        [-0.57817602, -0.5788446 , -0.52076095, ..., -0.58467161,\n",
       "         -0.56748545, -0.58482812],\n",
       "        [-0.57749012, -0.57659591, -0.52083827, ..., -0.57915243,\n",
       "         -0.56256687, -0.58517932],\n",
       "        ...,\n",
       "        [-0.56342908, -0.57797972, -0.52218361, ..., -0.57639284,\n",
       "         -0.55272972, -0.56743555],\n",
       "        [-0.56188579, -0.5795365 , -0.52059085, ..., -0.57639284,\n",
       "         -0.55272972, -0.56116492],\n",
       "        [-0.56171432, -0.58126627, -0.51882799, ..., -0.57639284,\n",
       "         -0.55272972, -0.57490791]],\n",
       "\n",
       "       [[-0.57817602, -0.5788446 , -0.52076095, ..., -0.58467161,\n",
       "         -0.56748545, -0.58482812],\n",
       "        [-0.57749012, -0.57659591, -0.52083827, ..., -0.57915243,\n",
       "         -0.56256687, -0.58517932],\n",
       "        [-0.57731864, -0.57573102, -0.52097744, ..., -0.58467161,\n",
       "         -0.56748545, -0.5881846 ],\n",
       "        ...,\n",
       "        [-0.56188579, -0.5795365 , -0.52059085, ..., -0.57639284,\n",
       "         -0.55272972, -0.56116492],\n",
       "        [-0.56171432, -0.58126627, -0.51882799, ..., -0.57639284,\n",
       "         -0.55272972, -0.57490791],\n",
       "        [-0.56462941, -0.58022841, -0.5174208 , ..., -0.57639284,\n",
       "         -0.55272972, -0.5662687 ]]])"
      ]
     },
     "execution_count": 8,
     "metadata": {},
     "output_type": "execute_result"
    }
   ],
   "source": [
    "trainX"
   ]
  },
  {
   "cell_type": "code",
   "execution_count": 9,
   "metadata": {},
   "outputs": [
    {
     "name": "stdout",
     "output_type": "stream",
     "text": [
      "\u001b[1m6/6\u001b[0m \u001b[32m━━━━━━━━━━━━━━━━━━━━\u001b[0m\u001b[37m\u001b[0m \u001b[1m1s\u001b[0m 52ms/step\n"
     ]
    }
   ],
   "source": [
    "future_dates_count = 365//2\n",
    "forecast_dates = pd.date_range(start=test_data.index[-1], periods=future_dates_count)\n",
    "forecast = model.predict(trainX[-future_dates_count:])"
   ]
  },
  {
   "cell_type": "code",
   "execution_count": 11,
   "metadata": {},
   "outputs": [],
   "source": [
    "forecast_copies = np.repeat(forecast,df.shape[1],axis=-1)\n",
    "pred = scaler.inverse_transform(forecast_copies)[:,0]"
   ]
  },
  {
   "cell_type": "code",
   "execution_count": 15,
   "metadata": {},
   "outputs": [],
   "source": [
    "forecast_df = pd.DataFrame({'Date': forecast_dates, 'Forecast': pred})\n",
    "forecast_df.set_index('Date', inplace=True)"
   ]
  },
  {
   "cell_type": "code",
   "execution_count": 16,
   "metadata": {},
   "outputs": [
    {
     "data": {
      "text/html": [
       "<div>\n",
       "<style scoped>\n",
       "    .dataframe tbody tr th:only-of-type {\n",
       "        vertical-align: middle;\n",
       "    }\n",
       "\n",
       "    .dataframe tbody tr th {\n",
       "        vertical-align: top;\n",
       "    }\n",
       "\n",
       "    .dataframe thead th {\n",
       "        text-align: right;\n",
       "    }\n",
       "</style>\n",
       "<table border=\"1\" class=\"dataframe\">\n",
       "  <thead>\n",
       "    <tr style=\"text-align: right;\">\n",
       "      <th></th>\n",
       "      <th>Forecast</th>\n",
       "    </tr>\n",
       "    <tr>\n",
       "      <th>Date</th>\n",
       "      <th></th>\n",
       "    </tr>\n",
       "  </thead>\n",
       "  <tbody>\n",
       "    <tr>\n",
       "      <th>2024-04-20</th>\n",
       "      <td>448.339844</td>\n",
       "    </tr>\n",
       "    <tr>\n",
       "      <th>2024-04-21</th>\n",
       "      <td>444.220703</td>\n",
       "    </tr>\n",
       "    <tr>\n",
       "      <th>2024-04-22</th>\n",
       "      <td>454.175537</td>\n",
       "    </tr>\n",
       "    <tr>\n",
       "      <th>2024-04-23</th>\n",
       "      <td>462.627686</td>\n",
       "    </tr>\n",
       "    <tr>\n",
       "      <th>2024-04-24</th>\n",
       "      <td>472.884277</td>\n",
       "    </tr>\n",
       "    <tr>\n",
       "      <th>...</th>\n",
       "      <td>...</td>\n",
       "    </tr>\n",
       "    <tr>\n",
       "      <th>2024-10-14</th>\n",
       "      <td>344.660156</td>\n",
       "    </tr>\n",
       "    <tr>\n",
       "      <th>2024-10-15</th>\n",
       "      <td>354.895020</td>\n",
       "    </tr>\n",
       "    <tr>\n",
       "      <th>2024-10-16</th>\n",
       "      <td>371.519775</td>\n",
       "    </tr>\n",
       "    <tr>\n",
       "      <th>2024-10-17</th>\n",
       "      <td>382.310059</td>\n",
       "    </tr>\n",
       "    <tr>\n",
       "      <th>2024-10-18</th>\n",
       "      <td>385.436768</td>\n",
       "    </tr>\n",
       "  </tbody>\n",
       "</table>\n",
       "<p>182 rows × 1 columns</p>\n",
       "</div>"
      ],
      "text/plain": [
       "              Forecast\n",
       "Date                  \n",
       "2024-04-20  448.339844\n",
       "2024-04-21  444.220703\n",
       "2024-04-22  454.175537\n",
       "2024-04-23  462.627686\n",
       "2024-04-24  472.884277\n",
       "...                ...\n",
       "2024-10-14  344.660156\n",
       "2024-10-15  354.895020\n",
       "2024-10-16  371.519775\n",
       "2024-10-17  382.310059\n",
       "2024-10-18  385.436768\n",
       "\n",
       "[182 rows x 1 columns]"
      ]
     },
     "execution_count": 16,
     "metadata": {},
     "output_type": "execute_result"
    }
   ],
   "source": [
    "forecast_df"
   ]
  }
 ],
 "metadata": {
  "kernelspec": {
   "display_name": ".venv",
   "language": "python",
   "name": "python3"
  },
  "language_info": {
   "codemirror_mode": {
    "name": "ipython",
    "version": 3
   },
   "file_extension": ".py",
   "mimetype": "text/x-python",
   "name": "python",
   "nbconvert_exporter": "python",
   "pygments_lexer": "ipython3",
   "version": "3.10.11"
  }
 },
 "nbformat": 4,
 "nbformat_minor": 2
}
