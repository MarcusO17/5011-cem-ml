{
 "cells": [
  {
   "cell_type": "code",
   "execution_count": 17,
   "metadata": {},
   "outputs": [],
   "source": [
    "import pandas as pd\n",
    "import seaborn as sns\n",
    "import matplotlib.pyplot as plt\n"
   ]
  },
  {
   "cell_type": "code",
   "execution_count": 18,
   "metadata": {},
   "outputs": [],
   "source": [
    "df = pd.read_csv('../data/consolidated_data/training_dataset.csv')\n",
    "df.drop(columns=['Unnamed: 0'], inplace=True)\n",
    "df = pd.get_dummies(df, columns=['state'])"
   ]
  },
  {
   "cell_type": "code",
   "execution_count": 19,
   "metadata": {},
   "outputs": [
    {
     "data": {
      "text/html": [
       "<div>\n",
       "<style scoped>\n",
       "    .dataframe tbody tr th:only-of-type {\n",
       "        vertical-align: middle;\n",
       "    }\n",
       "\n",
       "    .dataframe tbody tr th {\n",
       "        vertical-align: top;\n",
       "    }\n",
       "\n",
       "    .dataframe thead th {\n",
       "        text-align: right;\n",
       "    }\n",
       "</style>\n",
       "<table border=\"1\" class=\"dataframe\">\n",
       "  <thead>\n",
       "    <tr style=\"text-align: right;\">\n",
       "      <th></th>\n",
       "      <th>date</th>\n",
       "      <th>cases_new</th>\n",
       "      <th>cases_recovered</th>\n",
       "      <th>cases_active</th>\n",
       "      <th>cases_unvax</th>\n",
       "      <th>cases_pvax</th>\n",
       "      <th>cases_fvax</th>\n",
       "      <th>cases_0_4</th>\n",
       "      <th>cases_5_11</th>\n",
       "      <th>cases_12_17</th>\n",
       "      <th>...</th>\n",
       "      <th>state_Perak</th>\n",
       "      <th>state_Perlis</th>\n",
       "      <th>state_Pulau Pinang</th>\n",
       "      <th>state_Sabah</th>\n",
       "      <th>state_Sarawak</th>\n",
       "      <th>state_Selangor</th>\n",
       "      <th>state_Terengganu</th>\n",
       "      <th>state_W.P. Kuala Lumpur</th>\n",
       "      <th>state_W.P. Labuan</th>\n",
       "      <th>state_W.P. Putrajaya</th>\n",
       "    </tr>\n",
       "  </thead>\n",
       "  <tbody>\n",
       "    <tr>\n",
       "      <th>0</th>\n",
       "      <td>2020-01-25</td>\n",
       "      <td>4</td>\n",
       "      <td>0</td>\n",
       "      <td>4</td>\n",
       "      <td>4</td>\n",
       "      <td>0</td>\n",
       "      <td>0</td>\n",
       "      <td>0</td>\n",
       "      <td>0</td>\n",
       "      <td>0</td>\n",
       "      <td>...</td>\n",
       "      <td>False</td>\n",
       "      <td>False</td>\n",
       "      <td>False</td>\n",
       "      <td>False</td>\n",
       "      <td>False</td>\n",
       "      <td>False</td>\n",
       "      <td>False</td>\n",
       "      <td>False</td>\n",
       "      <td>False</td>\n",
       "      <td>False</td>\n",
       "    </tr>\n",
       "    <tr>\n",
       "      <th>1</th>\n",
       "      <td>2020-01-25</td>\n",
       "      <td>0</td>\n",
       "      <td>0</td>\n",
       "      <td>0</td>\n",
       "      <td>0</td>\n",
       "      <td>0</td>\n",
       "      <td>0</td>\n",
       "      <td>0</td>\n",
       "      <td>0</td>\n",
       "      <td>0</td>\n",
       "      <td>...</td>\n",
       "      <td>False</td>\n",
       "      <td>False</td>\n",
       "      <td>False</td>\n",
       "      <td>False</td>\n",
       "      <td>False</td>\n",
       "      <td>False</td>\n",
       "      <td>False</td>\n",
       "      <td>False</td>\n",
       "      <td>False</td>\n",
       "      <td>False</td>\n",
       "    </tr>\n",
       "    <tr>\n",
       "      <th>2</th>\n",
       "      <td>2020-01-25</td>\n",
       "      <td>0</td>\n",
       "      <td>0</td>\n",
       "      <td>0</td>\n",
       "      <td>0</td>\n",
       "      <td>0</td>\n",
       "      <td>0</td>\n",
       "      <td>0</td>\n",
       "      <td>0</td>\n",
       "      <td>0</td>\n",
       "      <td>...</td>\n",
       "      <td>False</td>\n",
       "      <td>False</td>\n",
       "      <td>False</td>\n",
       "      <td>False</td>\n",
       "      <td>False</td>\n",
       "      <td>False</td>\n",
       "      <td>False</td>\n",
       "      <td>False</td>\n",
       "      <td>False</td>\n",
       "      <td>False</td>\n",
       "    </tr>\n",
       "    <tr>\n",
       "      <th>3</th>\n",
       "      <td>2020-01-25</td>\n",
       "      <td>0</td>\n",
       "      <td>0</td>\n",
       "      <td>0</td>\n",
       "      <td>0</td>\n",
       "      <td>0</td>\n",
       "      <td>0</td>\n",
       "      <td>0</td>\n",
       "      <td>0</td>\n",
       "      <td>0</td>\n",
       "      <td>...</td>\n",
       "      <td>False</td>\n",
       "      <td>False</td>\n",
       "      <td>False</td>\n",
       "      <td>False</td>\n",
       "      <td>False</td>\n",
       "      <td>False</td>\n",
       "      <td>False</td>\n",
       "      <td>False</td>\n",
       "      <td>False</td>\n",
       "      <td>False</td>\n",
       "    </tr>\n",
       "    <tr>\n",
       "      <th>4</th>\n",
       "      <td>2020-01-25</td>\n",
       "      <td>0</td>\n",
       "      <td>0</td>\n",
       "      <td>0</td>\n",
       "      <td>0</td>\n",
       "      <td>0</td>\n",
       "      <td>0</td>\n",
       "      <td>0</td>\n",
       "      <td>0</td>\n",
       "      <td>0</td>\n",
       "      <td>...</td>\n",
       "      <td>False</td>\n",
       "      <td>False</td>\n",
       "      <td>False</td>\n",
       "      <td>False</td>\n",
       "      <td>False</td>\n",
       "      <td>False</td>\n",
       "      <td>False</td>\n",
       "      <td>False</td>\n",
       "      <td>False</td>\n",
       "      <td>False</td>\n",
       "    </tr>\n",
       "  </tbody>\n",
       "</table>\n",
       "<p>5 rows × 43 columns</p>\n",
       "</div>"
      ],
      "text/plain": [
       "         date  cases_new  cases_recovered  cases_active  cases_unvax  \\\n",
       "0  2020-01-25          4                0             4            4   \n",
       "1  2020-01-25          0                0             0            0   \n",
       "2  2020-01-25          0                0             0            0   \n",
       "3  2020-01-25          0                0             0            0   \n",
       "4  2020-01-25          0                0             0            0   \n",
       "\n",
       "   cases_pvax  cases_fvax  cases_0_4  cases_5_11  cases_12_17  ...  \\\n",
       "0           0           0          0           0            0  ...   \n",
       "1           0           0          0           0            0  ...   \n",
       "2           0           0          0           0            0  ...   \n",
       "3           0           0          0           0            0  ...   \n",
       "4           0           0          0           0            0  ...   \n",
       "\n",
       "   state_Perak  state_Perlis  state_Pulau Pinang  state_Sabah  state_Sarawak  \\\n",
       "0        False         False               False        False          False   \n",
       "1        False         False               False        False          False   \n",
       "2        False         False               False        False          False   \n",
       "3        False         False               False        False          False   \n",
       "4        False         False               False        False          False   \n",
       "\n",
       "   state_Selangor  state_Terengganu  state_W.P. Kuala Lumpur  \\\n",
       "0           False             False                    False   \n",
       "1           False             False                    False   \n",
       "2           False             False                    False   \n",
       "3           False             False                    False   \n",
       "4           False             False                    False   \n",
       "\n",
       "   state_W.P. Labuan  state_W.P. Putrajaya  \n",
       "0              False                 False  \n",
       "1              False                 False  \n",
       "2              False                 False  \n",
       "3              False                 False  \n",
       "4              False                 False  \n",
       "\n",
       "[5 rows x 43 columns]"
      ]
     },
     "execution_count": 19,
     "metadata": {},
     "output_type": "execute_result"
    }
   ],
   "source": [
    "df.head()"
   ]
  },
  {
   "cell_type": "code",
   "execution_count": 20,
   "metadata": {},
   "outputs": [
    {
     "name": "stdout",
     "output_type": "stream",
     "text": [
      "ADF Statistic: -2.405630620507177\n",
      "p-value: 0.14015351027001127\n",
      "Critical Values: {'1%': -3.4306145729682744, '5%': -2.861656933183008, '10%': -2.5668322401244907}\n"
     ]
    }
   ],
   "source": [
    "from statsmodels.tsa.stattools import adfuller\n",
    "\n",
    "result = adfuller(df['cases_new'])\n",
    "print(f'ADF Statistic: {result[0]}')\n",
    "print(f'p-value: {result[1]}' )\n",
    "print(f'Critical Values: {result[4]}')"
   ]
  },
  {
   "cell_type": "code",
   "execution_count": 21,
   "metadata": {},
   "outputs": [
    {
     "name": "stdout",
     "output_type": "stream",
     "text": [
      "Training data shape: (19814, 43)\n",
      "Testing data shape: (4954, 43)              date  cases_new  cases_recovered  cases_active  cases_unvax  \\\n",
      "19814  2023-06-16         38               45           782            4   \n",
      "19815  2023-06-16          4                3            93            1   \n",
      "19816  2023-06-16         48               39           605            2   \n",
      "19817  2023-06-16         17                5          3791            2   \n",
      "19818  2023-06-16         45               56           686           10   \n",
      "...           ...        ...              ...           ...          ...   \n",
      "24763  2024-04-20         39                8            37            4   \n",
      "24764  2024-04-20          0                0           299            0   \n",
      "24765  2024-04-20         33                5           585            6   \n",
      "24766  2024-04-20          0                0            28            0   \n",
      "24767  2024-04-20          3                0           240            0   \n",
      "\n",
      "       cases_pvax  cases_fvax  cases_0_4  cases_5_11  cases_12_17  ...  \\\n",
      "19814           1           6          1           1            1  ...   \n",
      "19815           0           1          0           1            0  ...   \n",
      "19816           0           9          0           2            0  ...   \n",
      "19817           0           3          1           1            0  ...   \n",
      "19818           0           5          3           2            2  ...   \n",
      "...           ...         ...        ...         ...          ...  ...   \n",
      "24763           0           8          0           3            2  ...   \n",
      "24764           0           0          0           0            0  ...   \n",
      "24765           0           3          2           1            0  ...   \n",
      "24766           0           0          0           0            0  ...   \n",
      "24767           0           0          0           0            0  ...   \n",
      "\n",
      "       state_Perak  state_Perlis  state_Pulau Pinang  state_Sabah  \\\n",
      "19814         True         False               False        False   \n",
      "19815        False          True               False        False   \n",
      "19816        False         False                True        False   \n",
      "19817        False         False               False         True   \n",
      "19818        False         False               False        False   \n",
      "...            ...           ...                 ...          ...   \n",
      "24763        False         False               False        False   \n",
      "24764        False         False               False        False   \n",
      "24765        False         False               False        False   \n",
      "24766        False         False               False        False   \n",
      "24767        False         False               False        False   \n",
      "\n",
      "       state_Sarawak  state_Selangor  state_Terengganu  \\\n",
      "19814          False           False             False   \n",
      "19815          False           False             False   \n",
      "19816          False           False             False   \n",
      "19817          False           False             False   \n",
      "19818           True           False             False   \n",
      "...              ...             ...               ...   \n",
      "24763          False            True             False   \n",
      "24764          False           False              True   \n",
      "24765          False           False             False   \n",
      "24766          False           False             False   \n",
      "24767          False           False             False   \n",
      "\n",
      "       state_W.P. Kuala Lumpur  state_W.P. Labuan  state_W.P. Putrajaya  \n",
      "19814                    False              False                 False  \n",
      "19815                    False              False                 False  \n",
      "19816                    False              False                 False  \n",
      "19817                    False              False                 False  \n",
      "19818                    False              False                 False  \n",
      "...                        ...                ...                   ...  \n",
      "24763                    False              False                 False  \n",
      "24764                    False              False                 False  \n",
      "24765                     True              False                 False  \n",
      "24766                    False               True                 False  \n",
      "24767                    False              False                  True  \n",
      "\n",
      "[4954 rows x 43 columns]\n"
     ]
    }
   ],
   "source": [
    "split_index = int(0.8 * len(df))\n",
    "train_data = df.iloc[:split_index]\n",
    "test_data = df.iloc[split_index:]\n",
    "\n",
    "print(\"Training data shape:\", train_data.shape)\n",
    "\n",
    "print(\"Testing data shape:\", test_data.shape, test_data)"
   ]
  },
  {
   "cell_type": "markdown",
   "metadata": {},
   "source": [
    "---"
   ]
  },
  {
   "cell_type": "code",
   "execution_count": 22,
   "metadata": {},
   "outputs": [],
   "source": [
    "from statsmodels.tsa.arima.model import ARIMA\n",
    "train_data = train_data.set_index('date')\n",
    "test_data = test_data.set_index('date')"
   ]
  },
  {
   "cell_type": "code",
   "execution_count": 23,
   "metadata": {},
   "outputs": [
    {
     "name": "stdout",
     "output_type": "stream",
     "text": [
      "<class 'pandas.core.frame.DataFrame'>\n",
      "Index: 19814 entries, 2020-01-25 to 2023-06-16\n",
      "Data columns (total 42 columns):\n",
      " #   Column                     Non-Null Count  Dtype  \n",
      "---  ------                     --------------  -----  \n",
      " 0   cases_new                  19814 non-null  int64  \n",
      " 1   cases_recovered            19814 non-null  int64  \n",
      " 2   cases_active               19814 non-null  int64  \n",
      " 3   cases_unvax                19814 non-null  int64  \n",
      " 4   cases_pvax                 19814 non-null  int64  \n",
      " 5   cases_fvax                 19814 non-null  int64  \n",
      " 6   cases_0_4                  19814 non-null  int64  \n",
      " 7   cases_5_11                 19814 non-null  int64  \n",
      " 8   cases_12_17                19814 non-null  int64  \n",
      " 9   cases_18_29                19814 non-null  int64  \n",
      " 10  cases_30_39                19814 non-null  int64  \n",
      " 11  cases_40_49                19814 non-null  int64  \n",
      " 12  cases_50_59                19814 non-null  int64  \n",
      " 13  cases_60_69                19814 non-null  int64  \n",
      " 14  cases_70_79                19814 non-null  int64  \n",
      " 15  cases_80                   19814 non-null  int64  \n",
      " 16  daily_partial              19814 non-null  float64\n",
      " 17  daily                      19814 non-null  float64\n",
      " 18  admitted_covid_hospital    19814 non-null  float64\n",
      " 19  admitted_total_hospital    19814 non-null  float64\n",
      " 20  discharged_covid_hospital  19814 non-null  float64\n",
      " 21  discharged_total_hospital  19814 non-null  float64\n",
      " 22  hosp_covid_hospital        19814 non-null  float64\n",
      " 23  icu_covid                  19814 non-null  float64\n",
      " 24  vent_covid                 19814 non-null  float64\n",
      " 25  cases_new_capita           19814 non-null  float64\n",
      " 26  state_Johor                19814 non-null  bool   \n",
      " 27  state_Kedah                19814 non-null  bool   \n",
      " 28  state_Kelantan             19814 non-null  bool   \n",
      " 29  state_Melaka               19814 non-null  bool   \n",
      " 30  state_Negeri Sembilan      19814 non-null  bool   \n",
      " 31  state_Pahang               19814 non-null  bool   \n",
      " 32  state_Perak                19814 non-null  bool   \n",
      " 33  state_Perlis               19814 non-null  bool   \n",
      " 34  state_Pulau Pinang         19814 non-null  bool   \n",
      " 35  state_Sabah                19814 non-null  bool   \n",
      " 36  state_Sarawak              19814 non-null  bool   \n",
      " 37  state_Selangor             19814 non-null  bool   \n",
      " 38  state_Terengganu           19814 non-null  bool   \n",
      " 39  state_W.P. Kuala Lumpur    19814 non-null  bool   \n",
      " 40  state_W.P. Labuan          19814 non-null  bool   \n",
      " 41  state_W.P. Putrajaya       19814 non-null  bool   \n",
      "dtypes: bool(16), float64(10), int64(16)\n",
      "memory usage: 4.4+ MB\n"
     ]
    }
   ],
   "source": [
    "train_data.info()    "
   ]
  },
  {
   "cell_type": "code",
   "execution_count": 24,
   "metadata": {},
   "outputs": [
    {
     "name": "stdout",
     "output_type": "stream",
     "text": [
      "<class 'pandas.core.frame.DataFrame'>\n",
      "Index: 19814 entries, 2020-01-25 to 2023-06-16\n",
      "Data columns (total 42 columns):\n",
      " #   Column                     Non-Null Count  Dtype  \n",
      "---  ------                     --------------  -----  \n",
      " 0   cases_new                  19814 non-null  int64  \n",
      " 1   cases_recovered            19814 non-null  int64  \n",
      " 2   cases_active               19814 non-null  int64  \n",
      " 3   cases_unvax                19814 non-null  int64  \n",
      " 4   cases_pvax                 19814 non-null  int64  \n",
      " 5   cases_fvax                 19814 non-null  int64  \n",
      " 6   cases_0_4                  19814 non-null  int64  \n",
      " 7   cases_5_11                 19814 non-null  int64  \n",
      " 8   cases_12_17                19814 non-null  int64  \n",
      " 9   cases_18_29                19814 non-null  int64  \n",
      " 10  cases_30_39                19814 non-null  int64  \n",
      " 11  cases_40_49                19814 non-null  int64  \n",
      " 12  cases_50_59                19814 non-null  int64  \n",
      " 13  cases_60_69                19814 non-null  int64  \n",
      " 14  cases_70_79                19814 non-null  int64  \n",
      " 15  cases_80                   19814 non-null  int64  \n",
      " 16  daily_partial              19814 non-null  float64\n",
      " 17  daily                      19814 non-null  float64\n",
      " 18  admitted_covid_hospital    19814 non-null  float64\n",
      " 19  admitted_total_hospital    19814 non-null  float64\n",
      " 20  discharged_covid_hospital  19814 non-null  float64\n",
      " 21  discharged_total_hospital  19814 non-null  float64\n",
      " 22  hosp_covid_hospital        19814 non-null  float64\n",
      " 23  icu_covid                  19814 non-null  float64\n",
      " 24  vent_covid                 19814 non-null  float64\n",
      " 25  cases_new_capita           19814 non-null  float64\n",
      " 26  state_Johor                19814 non-null  bool   \n",
      " 27  state_Kedah                19814 non-null  bool   \n",
      " 28  state_Kelantan             19814 non-null  bool   \n",
      " 29  state_Melaka               19814 non-null  bool   \n",
      " 30  state_Negeri Sembilan      19814 non-null  bool   \n",
      " 31  state_Pahang               19814 non-null  bool   \n",
      " 32  state_Perak                19814 non-null  bool   \n",
      " 33  state_Perlis               19814 non-null  bool   \n",
      " 34  state_Pulau Pinang         19814 non-null  bool   \n",
      " 35  state_Sabah                19814 non-null  bool   \n",
      " 36  state_Sarawak              19814 non-null  bool   \n",
      " 37  state_Selangor             19814 non-null  bool   \n",
      " 38  state_Terengganu           19814 non-null  bool   \n",
      " 39  state_W.P. Kuala Lumpur    19814 non-null  bool   \n",
      " 40  state_W.P. Labuan          19814 non-null  bool   \n",
      " 41  state_W.P. Putrajaya       19814 non-null  bool   \n",
      "dtypes: bool(16), float64(10), int64(16)\n",
      "memory usage: 4.4+ MB\n"
     ]
    }
   ],
   "source": [
    "train_data.info()"
   ]
  },
  {
   "cell_type": "code",
   "execution_count": 25,
   "metadata": {},
   "outputs": [],
   "source": [
    "for columns in train_data.columns:\n",
    "    train_data[columns] = train_data[columns].astype('float64')\n",
    "    "
   ]
  },
  {
   "cell_type": "code",
   "execution_count": 26,
   "metadata": {},
   "outputs": [
    {
     "name": "stdout",
     "output_type": "stream",
     "text": [
      "<class 'pandas.core.frame.DataFrame'>\n",
      "Index: 19814 entries, 2020-01-25 to 2023-06-16\n",
      "Data columns (total 42 columns):\n",
      " #   Column                     Non-Null Count  Dtype  \n",
      "---  ------                     --------------  -----  \n",
      " 0   cases_new                  19814 non-null  float64\n",
      " 1   cases_recovered            19814 non-null  float64\n",
      " 2   cases_active               19814 non-null  float64\n",
      " 3   cases_unvax                19814 non-null  float64\n",
      " 4   cases_pvax                 19814 non-null  float64\n",
      " 5   cases_fvax                 19814 non-null  float64\n",
      " 6   cases_0_4                  19814 non-null  float64\n",
      " 7   cases_5_11                 19814 non-null  float64\n",
      " 8   cases_12_17                19814 non-null  float64\n",
      " 9   cases_18_29                19814 non-null  float64\n",
      " 10  cases_30_39                19814 non-null  float64\n",
      " 11  cases_40_49                19814 non-null  float64\n",
      " 12  cases_50_59                19814 non-null  float64\n",
      " 13  cases_60_69                19814 non-null  float64\n",
      " 14  cases_70_79                19814 non-null  float64\n",
      " 15  cases_80                   19814 non-null  float64\n",
      " 16  daily_partial              19814 non-null  float64\n",
      " 17  daily                      19814 non-null  float64\n",
      " 18  admitted_covid_hospital    19814 non-null  float64\n",
      " 19  admitted_total_hospital    19814 non-null  float64\n",
      " 20  discharged_covid_hospital  19814 non-null  float64\n",
      " 21  discharged_total_hospital  19814 non-null  float64\n",
      " 22  hosp_covid_hospital        19814 non-null  float64\n",
      " 23  icu_covid                  19814 non-null  float64\n",
      " 24  vent_covid                 19814 non-null  float64\n",
      " 25  cases_new_capita           19814 non-null  float64\n",
      " 26  state_Johor                19814 non-null  float64\n",
      " 27  state_Kedah                19814 non-null  float64\n",
      " 28  state_Kelantan             19814 non-null  float64\n",
      " 29  state_Melaka               19814 non-null  float64\n",
      " 30  state_Negeri Sembilan      19814 non-null  float64\n",
      " 31  state_Pahang               19814 non-null  float64\n",
      " 32  state_Perak                19814 non-null  float64\n",
      " 33  state_Perlis               19814 non-null  float64\n",
      " 34  state_Pulau Pinang         19814 non-null  float64\n",
      " 35  state_Sabah                19814 non-null  float64\n",
      " 36  state_Sarawak              19814 non-null  float64\n",
      " 37  state_Selangor             19814 non-null  float64\n",
      " 38  state_Terengganu           19814 non-null  float64\n",
      " 39  state_W.P. Kuala Lumpur    19814 non-null  float64\n",
      " 40  state_W.P. Labuan          19814 non-null  float64\n",
      " 41  state_W.P. Putrajaya       19814 non-null  float64\n",
      "dtypes: float64(42)\n",
      "memory usage: 6.5+ MB\n"
     ]
    }
   ],
   "source": [
    "train_data.info()"
   ]
  },
  {
   "cell_type": "code",
   "execution_count": 100,
   "metadata": {},
   "outputs": [
    {
     "name": "stderr",
     "output_type": "stream",
     "text": [
      "e:\\Github Repositories\\5011-cem-ml\\.venv\\lib\\site-packages\\statsmodels\\tsa\\base\\tsa_model.py:473: ValueWarning: A date index has been provided, but it has no associated frequency information and so will be ignored when e.g. forecasting.\n",
      "  self._init_dates(dates, freq)\n",
      "e:\\Github Repositories\\5011-cem-ml\\.venv\\lib\\site-packages\\statsmodels\\tsa\\base\\tsa_model.py:473: ValueWarning: A date index has been provided, but it has no associated frequency information and so will be ignored when e.g. forecasting.\n",
      "  self._init_dates(dates, freq)\n",
      "e:\\Github Repositories\\5011-cem-ml\\.venv\\lib\\site-packages\\statsmodels\\tsa\\base\\tsa_model.py:473: ValueWarning: A date index has been provided, but it has no associated frequency information and so will be ignored when e.g. forecasting.\n",
      "  self._init_dates(dates, freq)\n",
      "e:\\Github Repositories\\5011-cem-ml\\.venv\\lib\\site-packages\\statsmodels\\tsa\\statespace\\sarimax.py:978: UserWarning: Non-invertible starting MA parameters found. Using zeros as starting parameters.\n",
      "  warn('Non-invertible starting MA parameters found.'\n"
     ]
    }
   ],
   "source": [
    "from statsmodels.tsa.arima.model import ARIMA\n",
    "ARIMAModel = ARIMA(train_data['cases_new'],order=(2,3,3))\n",
    "fitted_ARIMAModel = ARIMAModel.fit()"
   ]
  },
  {
   "cell_type": "code",
   "execution_count": 101,
   "metadata": {},
   "outputs": [
    {
     "name": "stderr",
     "output_type": "stream",
     "text": [
      "e:\\Github Repositories\\5011-cem-ml\\.venv\\lib\\site-packages\\statsmodels\\tsa\\base\\tsa_model.py:836: ValueWarning: No supported index is available. Prediction results will be given with an integer index beginning at `start`.\n",
      "  return get_prediction_index(\n",
      "e:\\Github Repositories\\5011-cem-ml\\.venv\\lib\\site-packages\\statsmodels\\tsa\\base\\tsa_model.py:836: FutureWarning: No supported index is available. In the next version, calling this method in a model without a supported index will result in an exception.\n",
      "  return get_prediction_index(\n"
     ]
    }
   ],
   "source": [
    "forecastArima = fitted_ARIMAModel.forecast(steps=len(test_data))"
   ]
  },
  {
   "cell_type": "code",
   "execution_count": 102,
   "metadata": {},
   "outputs": [],
   "source": [
    "df_vis = test_data.copy()\n",
    "df_vis['cases_new'] = forecastArima.values"
   ]
  },
  {
   "cell_type": "code",
   "execution_count": 103,
   "metadata": {},
   "outputs": [],
   "source": [
    "df_vis.index = pd.to_datetime(df_vis.index)"
   ]
  },
  {
   "cell_type": "code",
   "execution_count": 104,
   "metadata": {},
   "outputs": [
    {
     "data": {
      "text/plain": [
       "date\n",
       "2023-06-16         3.032709\n",
       "2023-06-16        25.477051\n",
       "2023-06-16         3.499985\n",
       "2023-06-16        33.772740\n",
       "2023-06-16         7.339147\n",
       "                  ...      \n",
       "2024-04-20   -964248.563671\n",
       "2024-04-20   -964667.409920\n",
       "2024-04-20   -965033.913502\n",
       "2024-04-20   -965452.917870\n",
       "2024-04-20   -965819.582999\n",
       "Name: cases_new, Length: 4954, dtype: float64"
      ]
     },
     "execution_count": 104,
     "metadata": {},
     "output_type": "execute_result"
    }
   ],
   "source": [
    "df_vis['cases_new']"
   ]
  },
  {
   "cell_type": "code",
   "execution_count": 105,
   "metadata": {},
   "outputs": [
    {
     "data": {
      "text/plain": [
       "0         4\n",
       "1         0\n",
       "2         0\n",
       "3         0\n",
       "4         0\n",
       "         ..\n",
       "24763    39\n",
       "24764     0\n",
       "24765    33\n",
       "24766     0\n",
       "24767     3\n",
       "Name: cases_new, Length: 24768, dtype: int64"
      ]
     },
     "execution_count": 105,
     "metadata": {},
     "output_type": "execute_result"
    }
   ],
   "source": [
    "df['cases_new']"
   ]
  },
  {
   "cell_type": "code",
   "execution_count": 106,
   "metadata": {},
   "outputs": [
    {
     "data": {
      "image/png": "[encoded data removed]",
      "text/plain": [
       "<Figure size 1200x600 with 1 Axes>"
      ]
     },
     "metadata": {},
     "output_type": "display_data"
    }
   ],
   "source": [
    "sns.set_style(\"darkgrid\")\n",
    "plt.figure(figsize=(12, 6))\n",
    "sns.lineplot(data=df_vis['cases_new'],label='Forecast')\n",
    "plt.xlabel('Time')\n",
    "plt.ylabel('Value')\n",
    "plt.title('ARIMA Forecast')\n",
    "plt.legend(['Actual', 'Forecast'])\n",
    "plt.show()"
   ]
  }
 ],
 "metadata": {
  "kernelspec": {
   "display_name": "Python 3 (ipykernel)",
   "language": "python",
   "name": "python3"
  },
  "language_info": {
   "codemirror_mode": {
    "name": "ipython",
    "version": 3
   },
   "file_extension": ".py",
   "mimetype": "text/x-python",
   "name": "python",
   "nbconvert_exporter": "python",
   "pygments_lexer": "ipython3",
   "version": "3.9.12"
  }
 },
 "nbformat": 4,
 "nbformat_minor": 4
}
